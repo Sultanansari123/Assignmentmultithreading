{
 "cells": [
  {
   "cell_type": "code",
   "execution_count": 9,
   "id": "dcf6d941-045f-4c2a-8ea7-ef831f66ccea",
   "metadata": {},
   "outputs": [
    {
     "data": {
      "text/plain": [
       "'Ans1-multithreading is a threading technique in python programming to run multiple threads concurrently by rapidly switching b/w threads with a cpu\\nhelp called context switching'"
      ]
     },
     "execution_count": 9,
     "metadata": {},
     "output_type": "execute_result"
    }
   ],
   "source": [
    "\"\"\"Ans1-multithreading is a threading technique in python programming to run multiple threads concurrently by rapidly switching b/w threads with a cpu\n",
    "help called context switching\"\"\""
   ]
  },
  {
   "cell_type": "code",
   "execution_count": 10,
   "id": "73144335-038f-4315-8a94-075f896a2c17",
   "metadata": {},
   "outputs": [],
   "source": [
    "import time\n",
    "import threading\n"
   ]
  },
  {
   "cell_type": "code",
   "execution_count": 11,
   "id": "17febff5-dcf0-4590-be3b-1c7b44bdaa11",
   "metadata": {},
   "outputs": [],
   "source": [
    "from threading import *"
   ]
  },
  {
   "cell_type": "code",
   "execution_count": 12,
   "id": "cefb1da1-5305-4b93-8720-1d4addd56ac4",
   "metadata": {},
   "outputs": [
    {
     "name": "stdout",
     "output_type": "stream",
     "text": [
      "square is:cube is: 64\n",
      " 16\n",
      "cube is:square is: 25\n",
      " 125\n",
      "cube is: 216\n",
      "square is: 36\n",
      "cube is: 343\n",
      "square is: 49\n",
      "cube is: 8\n",
      "square is: 4\n",
      "total time taking by thread is: 10.012555837631226\n",
      "again executing the main thread\n",
      "thred1,and thread2 have finished thier execution\n"
     ]
    }
   ],
   "source": [
    "def cal_sqr(num):\n",
    "    for n in num:\n",
    "        time.sleep(2)\n",
    "        print(\"square is:\",n*n)\n",
    "def cal_cube(num):\n",
    "    for n in num:\n",
    "        time.sleep(2)\n",
    "        print(\"cube is:\",n*n*n)\n",
    "arr=[4,5,6,7,2]\n",
    "t=time.time()\n",
    "th1=threading.Thread(target=cal_sqr,args=(arr,))\n",
    "th2=threading.Thread(target=cal_cube,args=(arr,))\n",
    "th1.start()\n",
    "th2.start()\n",
    "th1.join()\n",
    "th2.join()\n",
    "print(\"total time taking by thread is:\",time.time()-t)\n",
    "print(\"again executing the main thread\")\n",
    "print(\"thred1,and thread2 have finished thier execution\")"
   ]
  },
  {
   "cell_type": "code",
   "execution_count": 13,
   "id": "32b14fe5-c711-40e5-beb9-a554d07c3f96",
   "metadata": {},
   "outputs": [],
   "source": [
    "#Ans2-python threading allows you to have differents parts of your program run concurrently and can simplify your design.\n",
    "#ActiveCount()-return the number of the thread objects that are active\n",
    "#currentThread-return the number of thread objects in the callers thread controls\n",
    "#enumerate-return the list of all thread objects that are currently active."
   ]
  },
  {
   "cell_type": "code",
   "execution_count": 14,
   "id": "cb076c02-a4b5-4f51-9e02-592be482490e",
   "metadata": {},
   "outputs": [],
   "source": [
    "#Ans3-\n",
    "#run()-the run method is the entry point for a thread\n",
    "#start()-the start method start a thread by calling the run method.\n",
    "#join()-the join waits for thread to terminate.\n",
    "#isAlive()-the isAlive method checks wheather a thread is still executing."
   ]
  },
  {
   "cell_type": "code",
   "execution_count": 15,
   "id": "7a80d1b6-1209-404d-814e-5b3eeea0be17",
   "metadata": {},
   "outputs": [
    {
     "name": "stdout",
     "output_type": "stream",
     "text": [
      "square is:cube is: 64\n",
      " 16\n",
      "square is: 25\n",
      "cube is: 125\n",
      "square is: 36\n",
      "cube is: 216\n",
      "square is: 49\n",
      "cube is: 343\n",
      "square is: 4\n",
      "cube is: 8\n",
      "total time taking by thread is: 10.011156558990479\n",
      "again executing the main thread\n",
      "thred1,and thread2 have finished thier execution\n"
     ]
    }
   ],
   "source": [
    "#Ans4-create two threads one thread find the list of square and other thread find the list of the cubes.\n",
    "def cal_sqr(num):\n",
    "    for n in num:\n",
    "        time.sleep(2)\n",
    "        print(\"square is:\",n*n)\n",
    "def cal_cube(num):\n",
    "    for n in num:\n",
    "        time.sleep(2)\n",
    "        print(\"cube is:\",n*n*n)\n",
    "arr=[4,5,6,7,2]\n",
    "t=time.time()\n",
    "th1=threading.Thread(target=cal_sqr,args=(arr,))\n",
    "th2=threading.Thread(target=cal_cube,args=(arr,))\n",
    "th1.start()\n",
    "th2.start()\n",
    "th1.join()\n",
    "th2.join()\n",
    "print(\"total time taking by thread is:\",time.time()-t)\n",
    "print(\"again executing the main thread\")\n",
    "print(\"thred1,and thread2 have finished thier execution\")"
   ]
  },
  {
   "cell_type": "code",
   "execution_count": 17,
   "id": "84058754-a13a-4d4c-a601-e7079a11fe9d",
   "metadata": {},
   "outputs": [
    {
     "data": {
      "text/plain": [
       "'ans5-advantage of multithreading\\n1-improve performance and concurrency\\n2-simplified coding of remote procedure\\n3-simultaneous access tomultiple appplication\\n4-reduce number of require servers\\ndisadvantage of multithreading\\n1-difficulty of writing a code\\n2-difficulty of debugging \\n3-difficulty of testing\\n4-difficulty of porting existing code'"
      ]
     },
     "execution_count": 17,
     "metadata": {},
     "output_type": "execute_result"
    }
   ],
   "source": [
    "\"\"\"ans5-advantage of multithreading\n",
    "1-improve performance and concurrency\n",
    "2-simplified coding of remote procedure\n",
    "3-simultaneous access tomultiple appplication\n",
    "4-reduce number of require servers\n",
    "disadvantage of multithreading\n",
    "1-difficulty of writing a code\n",
    "2-difficulty of debugging \n",
    "3-difficulty of testing\n",
    "4-difficulty of porting existing code\"\"\"\n"
   ]
  },
  {
   "cell_type": "code",
   "execution_count": null,
   "id": "43ef89a4-cea3-4169-9a09-148b5cbba99d",
   "metadata": {},
   "outputs": [],
   "source": [
    "\"\"\"Ans6-race condition and deadlock\n",
    "both share some times similarities ,such as they both occure in multiple thread solution and hamper device performance.\n",
    "however they both are not the same .\n",
    "Race condition occurrs when two thread use the same variable at given time.\n",
    "Deadlock exists when tw\n"
   ]
  }
 ],
 "metadata": {
  "kernelspec": {
   "display_name": "Python 3 (ipykernel)",
   "language": "python",
   "name": "python3"
  },
  "language_info": {
   "codemirror_mode": {
    "name": "ipython",
    "version": 3
   },
   "file_extension": ".py",
   "mimetype": "text/x-python",
   "name": "python",
   "nbconvert_exporter": "python",
   "pygments_lexer": "ipython3",
   "version": "3.10.8"
  }
 },
 "nbformat": 4,
 "nbformat_minor": 5
}
